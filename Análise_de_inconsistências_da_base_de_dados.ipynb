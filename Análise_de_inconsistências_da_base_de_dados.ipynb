{
  "nbformat": 4,
  "nbformat_minor": 0,
  "metadata": {
    "colab": {
      "provenance": [],
      "authorship_tag": "ABX9TyOLMmF0SDE+wxlhflLGpfge",
      "include_colab_link": true
    },
    "kernelspec": {
      "name": "python3",
      "display_name": "Python 3"
    },
    "language_info": {
      "name": "python"
    }
  },
  "cells": [
    {
      "cell_type": "markdown",
      "metadata": {
        "id": "view-in-github",
        "colab_type": "text"
      },
      "source": [
        "<a href=\"https://colab.research.google.com/github/rodrigorissettoterra/Analise-de-inconsistencias/blob/main/An%C3%A1lise_de_inconsist%C3%AAncias_da_base_de_dados.ipynb\" target=\"_parent\"><img src=\"https://colab.research.google.com/assets/colab-badge.svg\" alt=\"Open In Colab\"/></a>"
      ]
    },
    {
      "cell_type": "markdown",
      "source": [
        "# Objetivo deste trabalho"
      ],
      "metadata": {
        "id": "kV7DgwWP_48R"
      }
    },
    {
      "cell_type": "markdown",
      "source": [
        "O objetivo deste trabalho é analisar e validar a integridade dos dados de transações de vendas disponibilizados.\n",
        "\n",
        "A análise será conduzida com foco na identificação de possíveis inconsistências presentes no conjunto de dados, tais como:\n",
        "\n",
        "- **Valores nulos:** Ausência de informações críticas em colunas específicas, como <code>COD_CLI</code>, <code>PRODUTO</code>, <code>VALOR_FATURADO</code> e <code>LOCAL</code>.\n",
        "- **Registros duplicados:** Verificação de linhas repetidas que podem comprometer a qualidade dos dados.\n",
        "- **Correspondência entre tabelas:**\n",
        "  - Validação se os produtos presentes na tabela de transações estão corretamente mapeados na tabela de produtos.\n",
        "  - Verificação se os códigos de locais utilizados na tabela de transações estão presentes na tabela de locais.\n",
        "- **Outros problemas:** Observação de quaisquer valores fora do padrão, como <code>VALOR_FATURADO</code> negativo ou outras anomalias."
      ],
      "metadata": {
        "id": "l8OnRo2t8RLR"
      }
    },
    {
      "cell_type": "markdown",
      "source": [
        "# Metodologia"
      ],
      "metadata": {
        "id": "i7e9kC9p_9Rg"
      }
    },
    {
      "cell_type": "markdown",
      "source": [
        "Para a realização deste trabalho, utilizarei as seguintes ferramentas e métodos:\n",
        "\n",
        "- Linguagem Python com foco na biblioteca Pandas para tratamento e análise de dados.\n",
        "- Carregamento do arquivo direto do GitHub utilizando o link bruto (raw).\n",
        "\n",
        "As etapas de análise incluem:\n",
        "  - Leitura e exploração inicial dos dados.\n",
        "  - Verificação de valores nulos e registros duplicados.\n",
        "  - Validação cruzada entre tabelas de transações, locais e produtos.\n",
        "  - Consolidação das inconsistências identificadas em um relatório final."
      ],
      "metadata": {
        "id": "6OLJsi6G_-oX"
      }
    },
    {
      "cell_type": "markdown",
      "source": [
        "# Resultados Esperados"
      ],
      "metadata": {
        "id": "trErrp0fAjXG"
      }
    },
    {
      "cell_type": "markdown",
      "source": [
        "O trabalho visa fornecer um diagnóstico claro sobre a qualidade dos dados, apontando inconsistências identificadas e oferecendo sugestões para correção.\n",
        "\n",
        "Esse diagnóstico poderá servir como base para melhorias no processo de coleta, tratamento e armazenamento de dados de transações."
      ],
      "metadata": {
        "id": "gGQA0kVtAlBj"
      }
    },
    {
      "cell_type": "markdown",
      "source": [
        "# Bibliotecas utilizadas"
      ],
      "metadata": {
        "id": "DsBuGSQJ8sYX"
      }
    },
    {
      "cell_type": "code",
      "execution_count": 1,
      "metadata": {
        "id": "6uCAMXT_78xM"
      },
      "outputs": [],
      "source": [
        "import pandas as pd"
      ]
    },
    {
      "cell_type": "markdown",
      "source": [
        "# Carregamento do arquivo"
      ],
      "metadata": {
        "id": "VE4Kn9MX8wJM"
      }
    },
    {
      "cell_type": "markdown",
      "source": [
        "**Observação:** É importante ressaltar que os dados utilizados neste trabalho são fictícios e foram disponibilizados exclusivamente para fins de prática. Dessa forma, não houve qualquer preocupação com questões de segurança, privacidade ou confidencialidade, uma vez que as informações contidas no conjunto de dados não correspondem a indivíduos ou transações reais."
      ],
      "metadata": {
        "id": "oV8g4jhlA75f"
      }
    },
    {
      "cell_type": "markdown",
      "source": [
        "URL do arquivo armazenado no meu repositório do Github."
      ],
      "metadata": {
        "id": "w_r9_j82BjTo"
      }
    },
    {
      "cell_type": "code",
      "source": [
        "url_github = \"https://github.com/rodrigorissettoterra/Analise-de-inconsistencias/raw/refs/heads/main/Transa%C3%A7%C3%B5es%20de%20venda%20sem%20m%C3%A9tricas.xlsx\""
      ],
      "metadata": {
        "id": "lxgWhqO58ziG"
      },
      "execution_count": 2,
      "outputs": []
    },
    {
      "cell_type": "markdown",
      "source": [
        "Carregando a planilha em um ExcelFile"
      ],
      "metadata": {
        "id": "k0bEQqGZBmMM"
      }
    },
    {
      "cell_type": "code",
      "source": [
        "xls = pd.ExcelFile(url_github)"
      ],
      "metadata": {
        "id": "kFLDnAoJ-B6C"
      },
      "execution_count": 3,
      "outputs": []
    },
    {
      "cell_type": "markdown",
      "source": [
        "Verificando as abas carregadas"
      ],
      "metadata": {
        "id": "qHdliynXBtqC"
      }
    },
    {
      "cell_type": "code",
      "source": [
        "print(\"Abas do arquivo:\", xls.sheet_names)"
      ],
      "metadata": {
        "colab": {
          "base_uri": "https://localhost:8080/"
        },
        "id": "zMAGMJofBsOU",
        "outputId": "6e54ba5a-0057-41bc-b00d-8b4b6717d63f"
      },
      "execution_count": 4,
      "outputs": [
        {
          "output_type": "stream",
          "name": "stdout",
          "text": [
            "Abas do arquivo: ['Transações', 'Base Locais', 'Base Produtos']\n"
          ]
        }
      ]
    },
    {
      "cell_type": "markdown",
      "source": [
        "Carregando cada aba em um dataframe diferente"
      ],
      "metadata": {
        "id": "wDtMgiiABxoB"
      }
    },
    {
      "cell_type": "code",
      "source": [
        "df_transacoes = pd.read_excel(url_github, sheet_name='Transações')\n",
        "df_locais = pd.read_excel(url_github, sheet_name='Base Locais')\n",
        "df_produtos = pd.read_excel(url_github, sheet_name='Base Produtos')"
      ],
      "metadata": {
        "id": "DtSZBZlMBpbZ"
      },
      "execution_count": 5,
      "outputs": []
    },
    {
      "cell_type": "markdown",
      "source": [
        "Visualizando as primeiras linhas de cada dataframe criado"
      ],
      "metadata": {
        "id": "vpGNGNwVB4D8"
      }
    },
    {
      "cell_type": "code",
      "source": [
        "print(\"Transações:\")\n",
        "display(df_transacoes.head())"
      ],
      "metadata": {
        "colab": {
          "base_uri": "https://localhost:8080/",
          "height": 224
        },
        "id": "QjmsICzH-YEY",
        "outputId": "7e4b0699-3887-4744-d103-c06d6cd4d1cf"
      },
      "execution_count": 6,
      "outputs": [
        {
          "output_type": "stream",
          "name": "stdout",
          "text": [
            "Transações:\n"
          ]
        },
        {
          "output_type": "display_data",
          "data": {
            "text/plain": [
              "   COD_CLI DATA_COMPRA           DT_ENTREGA PRODUTO  VALOR_FATURADO  LOCAL\n",
              "0   1352.0  1993-09-16  1993-09-16 00:00:00   XSZZ2         4470.29   17.0\n",
              "1   4885.0  1993-09-16  1993-09-16 00:00:00   LMFF3         1784.83   45.0\n",
              "2   8650.0  1993-09-16  1993-09-16 00:00:00   JNDD2         4779.90   21.0\n",
              "3  11720.0  1993-09-16  1993-09-16 00:00:00   JNDD1         4011.93   23.0\n",
              "4  10876.0  1993-09-18  1993-09-18 00:00:00   JNDD3         2251.07   20.0"
            ],
            "text/html": [
              "\n",
              "  <div id=\"df-58794760-14d0-4eba-832c-9425df2d810c\" class=\"colab-df-container\">\n",
              "    <div>\n",
              "<style scoped>\n",
              "    .dataframe tbody tr th:only-of-type {\n",
              "        vertical-align: middle;\n",
              "    }\n",
              "\n",
              "    .dataframe tbody tr th {\n",
              "        vertical-align: top;\n",
              "    }\n",
              "\n",
              "    .dataframe thead th {\n",
              "        text-align: right;\n",
              "    }\n",
              "</style>\n",
              "<table border=\"1\" class=\"dataframe\">\n",
              "  <thead>\n",
              "    <tr style=\"text-align: right;\">\n",
              "      <th></th>\n",
              "      <th>COD_CLI</th>\n",
              "      <th>DATA_COMPRA</th>\n",
              "      <th>DT_ENTREGA</th>\n",
              "      <th>PRODUTO</th>\n",
              "      <th>VALOR_FATURADO</th>\n",
              "      <th>LOCAL</th>\n",
              "    </tr>\n",
              "  </thead>\n",
              "  <tbody>\n",
              "    <tr>\n",
              "      <th>0</th>\n",
              "      <td>1352.0</td>\n",
              "      <td>1993-09-16</td>\n",
              "      <td>1993-09-16 00:00:00</td>\n",
              "      <td>XSZZ2</td>\n",
              "      <td>4470.29</td>\n",
              "      <td>17.0</td>\n",
              "    </tr>\n",
              "    <tr>\n",
              "      <th>1</th>\n",
              "      <td>4885.0</td>\n",
              "      <td>1993-09-16</td>\n",
              "      <td>1993-09-16 00:00:00</td>\n",
              "      <td>LMFF3</td>\n",
              "      <td>1784.83</td>\n",
              "      <td>45.0</td>\n",
              "    </tr>\n",
              "    <tr>\n",
              "      <th>2</th>\n",
              "      <td>8650.0</td>\n",
              "      <td>1993-09-16</td>\n",
              "      <td>1993-09-16 00:00:00</td>\n",
              "      <td>JNDD2</td>\n",
              "      <td>4779.90</td>\n",
              "      <td>21.0</td>\n",
              "    </tr>\n",
              "    <tr>\n",
              "      <th>3</th>\n",
              "      <td>11720.0</td>\n",
              "      <td>1993-09-16</td>\n",
              "      <td>1993-09-16 00:00:00</td>\n",
              "      <td>JNDD1</td>\n",
              "      <td>4011.93</td>\n",
              "      <td>23.0</td>\n",
              "    </tr>\n",
              "    <tr>\n",
              "      <th>4</th>\n",
              "      <td>10876.0</td>\n",
              "      <td>1993-09-18</td>\n",
              "      <td>1993-09-18 00:00:00</td>\n",
              "      <td>JNDD3</td>\n",
              "      <td>2251.07</td>\n",
              "      <td>20.0</td>\n",
              "    </tr>\n",
              "  </tbody>\n",
              "</table>\n",
              "</div>\n",
              "    <div class=\"colab-df-buttons\">\n",
              "\n",
              "  <div class=\"colab-df-container\">\n",
              "    <button class=\"colab-df-convert\" onclick=\"convertToInteractive('df-58794760-14d0-4eba-832c-9425df2d810c')\"\n",
              "            title=\"Convert this dataframe to an interactive table.\"\n",
              "            style=\"display:none;\">\n",
              "\n",
              "  <svg xmlns=\"http://www.w3.org/2000/svg\" height=\"24px\" viewBox=\"0 -960 960 960\">\n",
              "    <path d=\"M120-120v-720h720v720H120Zm60-500h600v-160H180v160Zm220 220h160v-160H400v160Zm0 220h160v-160H400v160ZM180-400h160v-160H180v160Zm440 0h160v-160H620v160ZM180-180h160v-160H180v160Zm440 0h160v-160H620v160Z\"/>\n",
              "  </svg>\n",
              "    </button>\n",
              "\n",
              "  <style>\n",
              "    .colab-df-container {\n",
              "      display:flex;\n",
              "      gap: 12px;\n",
              "    }\n",
              "\n",
              "    .colab-df-convert {\n",
              "      background-color: #E8F0FE;\n",
              "      border: none;\n",
              "      border-radius: 50%;\n",
              "      cursor: pointer;\n",
              "      display: none;\n",
              "      fill: #1967D2;\n",
              "      height: 32px;\n",
              "      padding: 0 0 0 0;\n",
              "      width: 32px;\n",
              "    }\n",
              "\n",
              "    .colab-df-convert:hover {\n",
              "      background-color: #E2EBFA;\n",
              "      box-shadow: 0px 1px 2px rgba(60, 64, 67, 0.3), 0px 1px 3px 1px rgba(60, 64, 67, 0.15);\n",
              "      fill: #174EA6;\n",
              "    }\n",
              "\n",
              "    .colab-df-buttons div {\n",
              "      margin-bottom: 4px;\n",
              "    }\n",
              "\n",
              "    [theme=dark] .colab-df-convert {\n",
              "      background-color: #3B4455;\n",
              "      fill: #D2E3FC;\n",
              "    }\n",
              "\n",
              "    [theme=dark] .colab-df-convert:hover {\n",
              "      background-color: #434B5C;\n",
              "      box-shadow: 0px 1px 3px 1px rgba(0, 0, 0, 0.15);\n",
              "      filter: drop-shadow(0px 1px 2px rgba(0, 0, 0, 0.3));\n",
              "      fill: #FFFFFF;\n",
              "    }\n",
              "  </style>\n",
              "\n",
              "    <script>\n",
              "      const buttonEl =\n",
              "        document.querySelector('#df-58794760-14d0-4eba-832c-9425df2d810c button.colab-df-convert');\n",
              "      buttonEl.style.display =\n",
              "        google.colab.kernel.accessAllowed ? 'block' : 'none';\n",
              "\n",
              "      async function convertToInteractive(key) {\n",
              "        const element = document.querySelector('#df-58794760-14d0-4eba-832c-9425df2d810c');\n",
              "        const dataTable =\n",
              "          await google.colab.kernel.invokeFunction('convertToInteractive',\n",
              "                                                    [key], {});\n",
              "        if (!dataTable) return;\n",
              "\n",
              "        const docLinkHtml = 'Like what you see? Visit the ' +\n",
              "          '<a target=\"_blank\" href=https://colab.research.google.com/notebooks/data_table.ipynb>data table notebook</a>'\n",
              "          + ' to learn more about interactive tables.';\n",
              "        element.innerHTML = '';\n",
              "        dataTable['output_type'] = 'display_data';\n",
              "        await google.colab.output.renderOutput(dataTable, element);\n",
              "        const docLink = document.createElement('div');\n",
              "        docLink.innerHTML = docLinkHtml;\n",
              "        element.appendChild(docLink);\n",
              "      }\n",
              "    </script>\n",
              "  </div>\n",
              "\n",
              "\n",
              "<div id=\"df-61f4f1a8-21ce-4560-ac98-b37354c7fce1\">\n",
              "  <button class=\"colab-df-quickchart\" onclick=\"quickchart('df-61f4f1a8-21ce-4560-ac98-b37354c7fce1')\"\n",
              "            title=\"Suggest charts\"\n",
              "            style=\"display:none;\">\n",
              "\n",
              "<svg xmlns=\"http://www.w3.org/2000/svg\" height=\"24px\"viewBox=\"0 0 24 24\"\n",
              "     width=\"24px\">\n",
              "    <g>\n",
              "        <path d=\"M19 3H5c-1.1 0-2 .9-2 2v14c0 1.1.9 2 2 2h14c1.1 0 2-.9 2-2V5c0-1.1-.9-2-2-2zM9 17H7v-7h2v7zm4 0h-2V7h2v10zm4 0h-2v-4h2v4z\"/>\n",
              "    </g>\n",
              "</svg>\n",
              "  </button>\n",
              "\n",
              "<style>\n",
              "  .colab-df-quickchart {\n",
              "      --bg-color: #E8F0FE;\n",
              "      --fill-color: #1967D2;\n",
              "      --hover-bg-color: #E2EBFA;\n",
              "      --hover-fill-color: #174EA6;\n",
              "      --disabled-fill-color: #AAA;\n",
              "      --disabled-bg-color: #DDD;\n",
              "  }\n",
              "\n",
              "  [theme=dark] .colab-df-quickchart {\n",
              "      --bg-color: #3B4455;\n",
              "      --fill-color: #D2E3FC;\n",
              "      --hover-bg-color: #434B5C;\n",
              "      --hover-fill-color: #FFFFFF;\n",
              "      --disabled-bg-color: #3B4455;\n",
              "      --disabled-fill-color: #666;\n",
              "  }\n",
              "\n",
              "  .colab-df-quickchart {\n",
              "    background-color: var(--bg-color);\n",
              "    border: none;\n",
              "    border-radius: 50%;\n",
              "    cursor: pointer;\n",
              "    display: none;\n",
              "    fill: var(--fill-color);\n",
              "    height: 32px;\n",
              "    padding: 0;\n",
              "    width: 32px;\n",
              "  }\n",
              "\n",
              "  .colab-df-quickchart:hover {\n",
              "    background-color: var(--hover-bg-color);\n",
              "    box-shadow: 0 1px 2px rgba(60, 64, 67, 0.3), 0 1px 3px 1px rgba(60, 64, 67, 0.15);\n",
              "    fill: var(--button-hover-fill-color);\n",
              "  }\n",
              "\n",
              "  .colab-df-quickchart-complete:disabled,\n",
              "  .colab-df-quickchart-complete:disabled:hover {\n",
              "    background-color: var(--disabled-bg-color);\n",
              "    fill: var(--disabled-fill-color);\n",
              "    box-shadow: none;\n",
              "  }\n",
              "\n",
              "  .colab-df-spinner {\n",
              "    border: 2px solid var(--fill-color);\n",
              "    border-color: transparent;\n",
              "    border-bottom-color: var(--fill-color);\n",
              "    animation:\n",
              "      spin 1s steps(1) infinite;\n",
              "  }\n",
              "\n",
              "  @keyframes spin {\n",
              "    0% {\n",
              "      border-color: transparent;\n",
              "      border-bottom-color: var(--fill-color);\n",
              "      border-left-color: var(--fill-color);\n",
              "    }\n",
              "    20% {\n",
              "      border-color: transparent;\n",
              "      border-left-color: var(--fill-color);\n",
              "      border-top-color: var(--fill-color);\n",
              "    }\n",
              "    30% {\n",
              "      border-color: transparent;\n",
              "      border-left-color: var(--fill-color);\n",
              "      border-top-color: var(--fill-color);\n",
              "      border-right-color: var(--fill-color);\n",
              "    }\n",
              "    40% {\n",
              "      border-color: transparent;\n",
              "      border-right-color: var(--fill-color);\n",
              "      border-top-color: var(--fill-color);\n",
              "    }\n",
              "    60% {\n",
              "      border-color: transparent;\n",
              "      border-right-color: var(--fill-color);\n",
              "    }\n",
              "    80% {\n",
              "      border-color: transparent;\n",
              "      border-right-color: var(--fill-color);\n",
              "      border-bottom-color: var(--fill-color);\n",
              "    }\n",
              "    90% {\n",
              "      border-color: transparent;\n",
              "      border-bottom-color: var(--fill-color);\n",
              "    }\n",
              "  }\n",
              "</style>\n",
              "\n",
              "  <script>\n",
              "    async function quickchart(key) {\n",
              "      const quickchartButtonEl =\n",
              "        document.querySelector('#' + key + ' button');\n",
              "      quickchartButtonEl.disabled = true;  // To prevent multiple clicks.\n",
              "      quickchartButtonEl.classList.add('colab-df-spinner');\n",
              "      try {\n",
              "        const charts = await google.colab.kernel.invokeFunction(\n",
              "            'suggestCharts', [key], {});\n",
              "      } catch (error) {\n",
              "        console.error('Error during call to suggestCharts:', error);\n",
              "      }\n",
              "      quickchartButtonEl.classList.remove('colab-df-spinner');\n",
              "      quickchartButtonEl.classList.add('colab-df-quickchart-complete');\n",
              "    }\n",
              "    (() => {\n",
              "      let quickchartButtonEl =\n",
              "        document.querySelector('#df-61f4f1a8-21ce-4560-ac98-b37354c7fce1 button');\n",
              "      quickchartButtonEl.style.display =\n",
              "        google.colab.kernel.accessAllowed ? 'block' : 'none';\n",
              "    })();\n",
              "  </script>\n",
              "</div>\n",
              "\n",
              "    </div>\n",
              "  </div>\n"
            ],
            "application/vnd.google.colaboratory.intrinsic+json": {
              "type": "dataframe",
              "summary": "{\n  \"name\": \"display(df_transacoes\",\n  \"rows\": 5,\n  \"fields\": [\n    {\n      \"column\": \"COD_CLI\",\n      \"properties\": {\n        \"dtype\": \"number\",\n        \"std\": 4334.86871773529,\n        \"min\": 1352.0,\n        \"max\": 11720.0,\n        \"num_unique_values\": 5,\n        \"samples\": [\n          4885.0,\n          10876.0,\n          8650.0\n        ],\n        \"semantic_type\": \"\",\n        \"description\": \"\"\n      }\n    },\n    {\n      \"column\": \"DATA_COMPRA\",\n      \"properties\": {\n        \"dtype\": \"date\",\n        \"min\": \"1993-09-16 00:00:00\",\n        \"max\": \"1993-09-18 00:00:00\",\n        \"num_unique_values\": 2,\n        \"samples\": [\n          \"1993-09-18 00:00:00\",\n          \"1993-09-16 00:00:00\"\n        ],\n        \"semantic_type\": \"\",\n        \"description\": \"\"\n      }\n    },\n    {\n      \"column\": \"DT_ENTREGA\",\n      \"properties\": {\n        \"dtype\": \"date\",\n        \"min\": \"1993-09-16 00:00:00\",\n        \"max\": \"1993-09-18 00:00:00\",\n        \"num_unique_values\": 2,\n        \"samples\": [\n          \"1993-09-18 00:00:00\",\n          \"1993-09-16 00:00:00\"\n        ],\n        \"semantic_type\": \"\",\n        \"description\": \"\"\n      }\n    },\n    {\n      \"column\": \"PRODUTO\",\n      \"properties\": {\n        \"dtype\": \"string\",\n        \"num_unique_values\": 5,\n        \"samples\": [\n          \"LMFF3\",\n          \"JNDD3\"\n        ],\n        \"semantic_type\": \"\",\n        \"description\": \"\"\n      }\n    },\n    {\n      \"column\": \"VALOR_FATURADO\",\n      \"properties\": {\n        \"dtype\": \"number\",\n        \"std\": 1354.1744818080126,\n        \"min\": 1784.83,\n        \"max\": 4779.9,\n        \"num_unique_values\": 5,\n        \"samples\": [\n          1784.83,\n          2251.07\n        ],\n        \"semantic_type\": \"\",\n        \"description\": \"\"\n      }\n    },\n    {\n      \"column\": \"LOCAL\",\n      \"properties\": {\n        \"dtype\": \"number\",\n        \"std\": 11.278297743897348,\n        \"min\": 17.0,\n        \"max\": 45.0,\n        \"num_unique_values\": 5,\n        \"samples\": [\n          45.0,\n          20.0\n        ],\n        \"semantic_type\": \"\",\n        \"description\": \"\"\n      }\n    }\n  ]\n}"
            }
          },
          "metadata": {}
        }
      ]
    },
    {
      "cell_type": "code",
      "source": [
        "print(\"Base Locais:\")\n",
        "display(df_locais.head())"
      ],
      "metadata": {
        "colab": {
          "base_uri": "https://localhost:8080/",
          "height": 224
        },
        "id": "XlAoYJ9y-Yx9",
        "outputId": "b57f1950-c933-4dc5-cb1d-85e533bbc7b8"
      },
      "execution_count": 7,
      "outputs": [
        {
          "output_type": "stream",
          "name": "stdout",
          "text": [
            "Base Locais:\n"
          ]
        },
        {
          "output_type": "display_data",
          "data": {
            "text/plain": [
              "    1          Aricanduva\n",
              "0   2             Butantã\n",
              "1   3         Campo Limpo\n",
              "2   8   Capela do Socorro\n",
              "3   9          Casa Verde\n",
              "4  10       Cidade Ademar"
            ],
            "text/html": [
              "\n",
              "  <div id=\"df-a1bb754f-641b-4ec3-b7b4-7058521f8aa8\" class=\"colab-df-container\">\n",
              "    <div>\n",
              "<style scoped>\n",
              "    .dataframe tbody tr th:only-of-type {\n",
              "        vertical-align: middle;\n",
              "    }\n",
              "\n",
              "    .dataframe tbody tr th {\n",
              "        vertical-align: top;\n",
              "    }\n",
              "\n",
              "    .dataframe thead th {\n",
              "        text-align: right;\n",
              "    }\n",
              "</style>\n",
              "<table border=\"1\" class=\"dataframe\">\n",
              "  <thead>\n",
              "    <tr style=\"text-align: right;\">\n",
              "      <th></th>\n",
              "      <th>1</th>\n",
              "      <th>Aricanduva</th>\n",
              "    </tr>\n",
              "  </thead>\n",
              "  <tbody>\n",
              "    <tr>\n",
              "      <th>0</th>\n",
              "      <td>2</td>\n",
              "      <td>Butantã</td>\n",
              "    </tr>\n",
              "    <tr>\n",
              "      <th>1</th>\n",
              "      <td>3</td>\n",
              "      <td>Campo Limpo</td>\n",
              "    </tr>\n",
              "    <tr>\n",
              "      <th>2</th>\n",
              "      <td>8</td>\n",
              "      <td>Capela do Socorro</td>\n",
              "    </tr>\n",
              "    <tr>\n",
              "      <th>3</th>\n",
              "      <td>9</td>\n",
              "      <td>Casa Verde</td>\n",
              "    </tr>\n",
              "    <tr>\n",
              "      <th>4</th>\n",
              "      <td>10</td>\n",
              "      <td>Cidade Ademar</td>\n",
              "    </tr>\n",
              "  </tbody>\n",
              "</table>\n",
              "</div>\n",
              "    <div class=\"colab-df-buttons\">\n",
              "\n",
              "  <div class=\"colab-df-container\">\n",
              "    <button class=\"colab-df-convert\" onclick=\"convertToInteractive('df-a1bb754f-641b-4ec3-b7b4-7058521f8aa8')\"\n",
              "            title=\"Convert this dataframe to an interactive table.\"\n",
              "            style=\"display:none;\">\n",
              "\n",
              "  <svg xmlns=\"http://www.w3.org/2000/svg\" height=\"24px\" viewBox=\"0 -960 960 960\">\n",
              "    <path d=\"M120-120v-720h720v720H120Zm60-500h600v-160H180v160Zm220 220h160v-160H400v160Zm0 220h160v-160H400v160ZM180-400h160v-160H180v160Zm440 0h160v-160H620v160ZM180-180h160v-160H180v160Zm440 0h160v-160H620v160Z\"/>\n",
              "  </svg>\n",
              "    </button>\n",
              "\n",
              "  <style>\n",
              "    .colab-df-container {\n",
              "      display:flex;\n",
              "      gap: 12px;\n",
              "    }\n",
              "\n",
              "    .colab-df-convert {\n",
              "      background-color: #E8F0FE;\n",
              "      border: none;\n",
              "      border-radius: 50%;\n",
              "      cursor: pointer;\n",
              "      display: none;\n",
              "      fill: #1967D2;\n",
              "      height: 32px;\n",
              "      padding: 0 0 0 0;\n",
              "      width: 32px;\n",
              "    }\n",
              "\n",
              "    .colab-df-convert:hover {\n",
              "      background-color: #E2EBFA;\n",
              "      box-shadow: 0px 1px 2px rgba(60, 64, 67, 0.3), 0px 1px 3px 1px rgba(60, 64, 67, 0.15);\n",
              "      fill: #174EA6;\n",
              "    }\n",
              "\n",
              "    .colab-df-buttons div {\n",
              "      margin-bottom: 4px;\n",
              "    }\n",
              "\n",
              "    [theme=dark] .colab-df-convert {\n",
              "      background-color: #3B4455;\n",
              "      fill: #D2E3FC;\n",
              "    }\n",
              "\n",
              "    [theme=dark] .colab-df-convert:hover {\n",
              "      background-color: #434B5C;\n",
              "      box-shadow: 0px 1px 3px 1px rgba(0, 0, 0, 0.15);\n",
              "      filter: drop-shadow(0px 1px 2px rgba(0, 0, 0, 0.3));\n",
              "      fill: #FFFFFF;\n",
              "    }\n",
              "  </style>\n",
              "\n",
              "    <script>\n",
              "      const buttonEl =\n",
              "        document.querySelector('#df-a1bb754f-641b-4ec3-b7b4-7058521f8aa8 button.colab-df-convert');\n",
              "      buttonEl.style.display =\n",
              "        google.colab.kernel.accessAllowed ? 'block' : 'none';\n",
              "\n",
              "      async function convertToInteractive(key) {\n",
              "        const element = document.querySelector('#df-a1bb754f-641b-4ec3-b7b4-7058521f8aa8');\n",
              "        const dataTable =\n",
              "          await google.colab.kernel.invokeFunction('convertToInteractive',\n",
              "                                                    [key], {});\n",
              "        if (!dataTable) return;\n",
              "\n",
              "        const docLinkHtml = 'Like what you see? Visit the ' +\n",
              "          '<a target=\"_blank\" href=https://colab.research.google.com/notebooks/data_table.ipynb>data table notebook</a>'\n",
              "          + ' to learn more about interactive tables.';\n",
              "        element.innerHTML = '';\n",
              "        dataTable['output_type'] = 'display_data';\n",
              "        await google.colab.output.renderOutput(dataTable, element);\n",
              "        const docLink = document.createElement('div');\n",
              "        docLink.innerHTML = docLinkHtml;\n",
              "        element.appendChild(docLink);\n",
              "      }\n",
              "    </script>\n",
              "  </div>\n",
              "\n",
              "\n",
              "<div id=\"df-796cd066-35d5-488f-9124-7cc46e7912aa\">\n",
              "  <button class=\"colab-df-quickchart\" onclick=\"quickchart('df-796cd066-35d5-488f-9124-7cc46e7912aa')\"\n",
              "            title=\"Suggest charts\"\n",
              "            style=\"display:none;\">\n",
              "\n",
              "<svg xmlns=\"http://www.w3.org/2000/svg\" height=\"24px\"viewBox=\"0 0 24 24\"\n",
              "     width=\"24px\">\n",
              "    <g>\n",
              "        <path d=\"M19 3H5c-1.1 0-2 .9-2 2v14c0 1.1.9 2 2 2h14c1.1 0 2-.9 2-2V5c0-1.1-.9-2-2-2zM9 17H7v-7h2v7zm4 0h-2V7h2v10zm4 0h-2v-4h2v4z\"/>\n",
              "    </g>\n",
              "</svg>\n",
              "  </button>\n",
              "\n",
              "<style>\n",
              "  .colab-df-quickchart {\n",
              "      --bg-color: #E8F0FE;\n",
              "      --fill-color: #1967D2;\n",
              "      --hover-bg-color: #E2EBFA;\n",
              "      --hover-fill-color: #174EA6;\n",
              "      --disabled-fill-color: #AAA;\n",
              "      --disabled-bg-color: #DDD;\n",
              "  }\n",
              "\n",
              "  [theme=dark] .colab-df-quickchart {\n",
              "      --bg-color: #3B4455;\n",
              "      --fill-color: #D2E3FC;\n",
              "      --hover-bg-color: #434B5C;\n",
              "      --hover-fill-color: #FFFFFF;\n",
              "      --disabled-bg-color: #3B4455;\n",
              "      --disabled-fill-color: #666;\n",
              "  }\n",
              "\n",
              "  .colab-df-quickchart {\n",
              "    background-color: var(--bg-color);\n",
              "    border: none;\n",
              "    border-radius: 50%;\n",
              "    cursor: pointer;\n",
              "    display: none;\n",
              "    fill: var(--fill-color);\n",
              "    height: 32px;\n",
              "    padding: 0;\n",
              "    width: 32px;\n",
              "  }\n",
              "\n",
              "  .colab-df-quickchart:hover {\n",
              "    background-color: var(--hover-bg-color);\n",
              "    box-shadow: 0 1px 2px rgba(60, 64, 67, 0.3), 0 1px 3px 1px rgba(60, 64, 67, 0.15);\n",
              "    fill: var(--button-hover-fill-color);\n",
              "  }\n",
              "\n",
              "  .colab-df-quickchart-complete:disabled,\n",
              "  .colab-df-quickchart-complete:disabled:hover {\n",
              "    background-color: var(--disabled-bg-color);\n",
              "    fill: var(--disabled-fill-color);\n",
              "    box-shadow: none;\n",
              "  }\n",
              "\n",
              "  .colab-df-spinner {\n",
              "    border: 2px solid var(--fill-color);\n",
              "    border-color: transparent;\n",
              "    border-bottom-color: var(--fill-color);\n",
              "    animation:\n",
              "      spin 1s steps(1) infinite;\n",
              "  }\n",
              "\n",
              "  @keyframes spin {\n",
              "    0% {\n",
              "      border-color: transparent;\n",
              "      border-bottom-color: var(--fill-color);\n",
              "      border-left-color: var(--fill-color);\n",
              "    }\n",
              "    20% {\n",
              "      border-color: transparent;\n",
              "      border-left-color: var(--fill-color);\n",
              "      border-top-color: var(--fill-color);\n",
              "    }\n",
              "    30% {\n",
              "      border-color: transparent;\n",
              "      border-left-color: var(--fill-color);\n",
              "      border-top-color: var(--fill-color);\n",
              "      border-right-color: var(--fill-color);\n",
              "    }\n",
              "    40% {\n",
              "      border-color: transparent;\n",
              "      border-right-color: var(--fill-color);\n",
              "      border-top-color: var(--fill-color);\n",
              "    }\n",
              "    60% {\n",
              "      border-color: transparent;\n",
              "      border-right-color: var(--fill-color);\n",
              "    }\n",
              "    80% {\n",
              "      border-color: transparent;\n",
              "      border-right-color: var(--fill-color);\n",
              "      border-bottom-color: var(--fill-color);\n",
              "    }\n",
              "    90% {\n",
              "      border-color: transparent;\n",
              "      border-bottom-color: var(--fill-color);\n",
              "    }\n",
              "  }\n",
              "</style>\n",
              "\n",
              "  <script>\n",
              "    async function quickchart(key) {\n",
              "      const quickchartButtonEl =\n",
              "        document.querySelector('#' + key + ' button');\n",
              "      quickchartButtonEl.disabled = true;  // To prevent multiple clicks.\n",
              "      quickchartButtonEl.classList.add('colab-df-spinner');\n",
              "      try {\n",
              "        const charts = await google.colab.kernel.invokeFunction(\n",
              "            'suggestCharts', [key], {});\n",
              "      } catch (error) {\n",
              "        console.error('Error during call to suggestCharts:', error);\n",
              "      }\n",
              "      quickchartButtonEl.classList.remove('colab-df-spinner');\n",
              "      quickchartButtonEl.classList.add('colab-df-quickchart-complete');\n",
              "    }\n",
              "    (() => {\n",
              "      let quickchartButtonEl =\n",
              "        document.querySelector('#df-796cd066-35d5-488f-9124-7cc46e7912aa button');\n",
              "      quickchartButtonEl.style.display =\n",
              "        google.colab.kernel.accessAllowed ? 'block' : 'none';\n",
              "    })();\n",
              "  </script>\n",
              "</div>\n",
              "\n",
              "    </div>\n",
              "  </div>\n"
            ],
            "application/vnd.google.colaboratory.intrinsic+json": {
              "type": "dataframe",
              "summary": "{\n  \"name\": \"display(df_locais\",\n  \"rows\": 5,\n  \"fields\": [\n    {\n      \"column\": 1,\n      \"properties\": {\n        \"dtype\": \"number\",\n        \"std\": 3,\n        \"min\": 2,\n        \"max\": 10,\n        \"num_unique_values\": 5,\n        \"samples\": [\n          3,\n          10,\n          8\n        ],\n        \"semantic_type\": \"\",\n        \"description\": \"\"\n      }\n    },\n    {\n      \"column\": \"Aricanduva\",\n      \"properties\": {\n        \"dtype\": \"string\",\n        \"num_unique_values\": 5,\n        \"samples\": [\n          \" Campo Limpo\",\n          \" Cidade Ademar\",\n          \" Capela do Socorro\"\n        ],\n        \"semantic_type\": \"\",\n        \"description\": \"\"\n      }\n    }\n  ]\n}"
            }
          },
          "metadata": {}
        }
      ]
    },
    {
      "cell_type": "code",
      "source": [
        "print(\"Base Produtos:\")\n",
        "display(df_produtos.head())"
      ],
      "metadata": {
        "colab": {
          "base_uri": "https://localhost:8080/",
          "height": 224
        },
        "id": "R4wYZW28-Zhz",
        "outputId": "3a6fae66-caa5-4aba-dbf2-e736742acc7d"
      },
      "execution_count": 8,
      "outputs": [
        {
          "output_type": "stream",
          "name": "stdout",
          "text": [
            "Base Produtos:\n"
          ]
        },
        {
          "output_type": "display_data",
          "data": {
            "text/plain": [
              "   BVAA0             Água Sanitária\n",
              "0  XSZZ2                     Álcool\n",
              "1  BVAA2    Álcool em Gel Acendedor\n",
              "2  QSOP4                 Alvejantes\n",
              "3  OKTT1  Amaciante e Passa Roupas \n",
              "4  WDFE2           Baldes e Bacias "
            ],
            "text/html": [
              "\n",
              "  <div id=\"df-ea24752f-ca90-4365-99f0-bdb5e6ef1e6f\" class=\"colab-df-container\">\n",
              "    <div>\n",
              "<style scoped>\n",
              "    .dataframe tbody tr th:only-of-type {\n",
              "        vertical-align: middle;\n",
              "    }\n",
              "\n",
              "    .dataframe tbody tr th {\n",
              "        vertical-align: top;\n",
              "    }\n",
              "\n",
              "    .dataframe thead th {\n",
              "        text-align: right;\n",
              "    }\n",
              "</style>\n",
              "<table border=\"1\" class=\"dataframe\">\n",
              "  <thead>\n",
              "    <tr style=\"text-align: right;\">\n",
              "      <th></th>\n",
              "      <th>BVAA0</th>\n",
              "      <th>Água Sanitária</th>\n",
              "    </tr>\n",
              "  </thead>\n",
              "  <tbody>\n",
              "    <tr>\n",
              "      <th>0</th>\n",
              "      <td>XSZZ2</td>\n",
              "      <td>Álcool</td>\n",
              "    </tr>\n",
              "    <tr>\n",
              "      <th>1</th>\n",
              "      <td>BVAA2</td>\n",
              "      <td>Álcool em Gel Acendedor</td>\n",
              "    </tr>\n",
              "    <tr>\n",
              "      <th>2</th>\n",
              "      <td>QSOP4</td>\n",
              "      <td>Alvejantes</td>\n",
              "    </tr>\n",
              "    <tr>\n",
              "      <th>3</th>\n",
              "      <td>OKTT1</td>\n",
              "      <td>Amaciante e Passa Roupas</td>\n",
              "    </tr>\n",
              "    <tr>\n",
              "      <th>4</th>\n",
              "      <td>WDFE2</td>\n",
              "      <td>Baldes e Bacias</td>\n",
              "    </tr>\n",
              "  </tbody>\n",
              "</table>\n",
              "</div>\n",
              "    <div class=\"colab-df-buttons\">\n",
              "\n",
              "  <div class=\"colab-df-container\">\n",
              "    <button class=\"colab-df-convert\" onclick=\"convertToInteractive('df-ea24752f-ca90-4365-99f0-bdb5e6ef1e6f')\"\n",
              "            title=\"Convert this dataframe to an interactive table.\"\n",
              "            style=\"display:none;\">\n",
              "\n",
              "  <svg xmlns=\"http://www.w3.org/2000/svg\" height=\"24px\" viewBox=\"0 -960 960 960\">\n",
              "    <path d=\"M120-120v-720h720v720H120Zm60-500h600v-160H180v160Zm220 220h160v-160H400v160Zm0 220h160v-160H400v160ZM180-400h160v-160H180v160Zm440 0h160v-160H620v160ZM180-180h160v-160H180v160Zm440 0h160v-160H620v160Z\"/>\n",
              "  </svg>\n",
              "    </button>\n",
              "\n",
              "  <style>\n",
              "    .colab-df-container {\n",
              "      display:flex;\n",
              "      gap: 12px;\n",
              "    }\n",
              "\n",
              "    .colab-df-convert {\n",
              "      background-color: #E8F0FE;\n",
              "      border: none;\n",
              "      border-radius: 50%;\n",
              "      cursor: pointer;\n",
              "      display: none;\n",
              "      fill: #1967D2;\n",
              "      height: 32px;\n",
              "      padding: 0 0 0 0;\n",
              "      width: 32px;\n",
              "    }\n",
              "\n",
              "    .colab-df-convert:hover {\n",
              "      background-color: #E2EBFA;\n",
              "      box-shadow: 0px 1px 2px rgba(60, 64, 67, 0.3), 0px 1px 3px 1px rgba(60, 64, 67, 0.15);\n",
              "      fill: #174EA6;\n",
              "    }\n",
              "\n",
              "    .colab-df-buttons div {\n",
              "      margin-bottom: 4px;\n",
              "    }\n",
              "\n",
              "    [theme=dark] .colab-df-convert {\n",
              "      background-color: #3B4455;\n",
              "      fill: #D2E3FC;\n",
              "    }\n",
              "\n",
              "    [theme=dark] .colab-df-convert:hover {\n",
              "      background-color: #434B5C;\n",
              "      box-shadow: 0px 1px 3px 1px rgba(0, 0, 0, 0.15);\n",
              "      filter: drop-shadow(0px 1px 2px rgba(0, 0, 0, 0.3));\n",
              "      fill: #FFFFFF;\n",
              "    }\n",
              "  </style>\n",
              "\n",
              "    <script>\n",
              "      const buttonEl =\n",
              "        document.querySelector('#df-ea24752f-ca90-4365-99f0-bdb5e6ef1e6f button.colab-df-convert');\n",
              "      buttonEl.style.display =\n",
              "        google.colab.kernel.accessAllowed ? 'block' : 'none';\n",
              "\n",
              "      async function convertToInteractive(key) {\n",
              "        const element = document.querySelector('#df-ea24752f-ca90-4365-99f0-bdb5e6ef1e6f');\n",
              "        const dataTable =\n",
              "          await google.colab.kernel.invokeFunction('convertToInteractive',\n",
              "                                                    [key], {});\n",
              "        if (!dataTable) return;\n",
              "\n",
              "        const docLinkHtml = 'Like what you see? Visit the ' +\n",
              "          '<a target=\"_blank\" href=https://colab.research.google.com/notebooks/data_table.ipynb>data table notebook</a>'\n",
              "          + ' to learn more about interactive tables.';\n",
              "        element.innerHTML = '';\n",
              "        dataTable['output_type'] = 'display_data';\n",
              "        await google.colab.output.renderOutput(dataTable, element);\n",
              "        const docLink = document.createElement('div');\n",
              "        docLink.innerHTML = docLinkHtml;\n",
              "        element.appendChild(docLink);\n",
              "      }\n",
              "    </script>\n",
              "  </div>\n",
              "\n",
              "\n",
              "<div id=\"df-1372a355-26db-4811-81dc-8bd497190d84\">\n",
              "  <button class=\"colab-df-quickchart\" onclick=\"quickchart('df-1372a355-26db-4811-81dc-8bd497190d84')\"\n",
              "            title=\"Suggest charts\"\n",
              "            style=\"display:none;\">\n",
              "\n",
              "<svg xmlns=\"http://www.w3.org/2000/svg\" height=\"24px\"viewBox=\"0 0 24 24\"\n",
              "     width=\"24px\">\n",
              "    <g>\n",
              "        <path d=\"M19 3H5c-1.1 0-2 .9-2 2v14c0 1.1.9 2 2 2h14c1.1 0 2-.9 2-2V5c0-1.1-.9-2-2-2zM9 17H7v-7h2v7zm4 0h-2V7h2v10zm4 0h-2v-4h2v4z\"/>\n",
              "    </g>\n",
              "</svg>\n",
              "  </button>\n",
              "\n",
              "<style>\n",
              "  .colab-df-quickchart {\n",
              "      --bg-color: #E8F0FE;\n",
              "      --fill-color: #1967D2;\n",
              "      --hover-bg-color: #E2EBFA;\n",
              "      --hover-fill-color: #174EA6;\n",
              "      --disabled-fill-color: #AAA;\n",
              "      --disabled-bg-color: #DDD;\n",
              "  }\n",
              "\n",
              "  [theme=dark] .colab-df-quickchart {\n",
              "      --bg-color: #3B4455;\n",
              "      --fill-color: #D2E3FC;\n",
              "      --hover-bg-color: #434B5C;\n",
              "      --hover-fill-color: #FFFFFF;\n",
              "      --disabled-bg-color: #3B4455;\n",
              "      --disabled-fill-color: #666;\n",
              "  }\n",
              "\n",
              "  .colab-df-quickchart {\n",
              "    background-color: var(--bg-color);\n",
              "    border: none;\n",
              "    border-radius: 50%;\n",
              "    cursor: pointer;\n",
              "    display: none;\n",
              "    fill: var(--fill-color);\n",
              "    height: 32px;\n",
              "    padding: 0;\n",
              "    width: 32px;\n",
              "  }\n",
              "\n",
              "  .colab-df-quickchart:hover {\n",
              "    background-color: var(--hover-bg-color);\n",
              "    box-shadow: 0 1px 2px rgba(60, 64, 67, 0.3), 0 1px 3px 1px rgba(60, 64, 67, 0.15);\n",
              "    fill: var(--button-hover-fill-color);\n",
              "  }\n",
              "\n",
              "  .colab-df-quickchart-complete:disabled,\n",
              "  .colab-df-quickchart-complete:disabled:hover {\n",
              "    background-color: var(--disabled-bg-color);\n",
              "    fill: var(--disabled-fill-color);\n",
              "    box-shadow: none;\n",
              "  }\n",
              "\n",
              "  .colab-df-spinner {\n",
              "    border: 2px solid var(--fill-color);\n",
              "    border-color: transparent;\n",
              "    border-bottom-color: var(--fill-color);\n",
              "    animation:\n",
              "      spin 1s steps(1) infinite;\n",
              "  }\n",
              "\n",
              "  @keyframes spin {\n",
              "    0% {\n",
              "      border-color: transparent;\n",
              "      border-bottom-color: var(--fill-color);\n",
              "      border-left-color: var(--fill-color);\n",
              "    }\n",
              "    20% {\n",
              "      border-color: transparent;\n",
              "      border-left-color: var(--fill-color);\n",
              "      border-top-color: var(--fill-color);\n",
              "    }\n",
              "    30% {\n",
              "      border-color: transparent;\n",
              "      border-left-color: var(--fill-color);\n",
              "      border-top-color: var(--fill-color);\n",
              "      border-right-color: var(--fill-color);\n",
              "    }\n",
              "    40% {\n",
              "      border-color: transparent;\n",
              "      border-right-color: var(--fill-color);\n",
              "      border-top-color: var(--fill-color);\n",
              "    }\n",
              "    60% {\n",
              "      border-color: transparent;\n",
              "      border-right-color: var(--fill-color);\n",
              "    }\n",
              "    80% {\n",
              "      border-color: transparent;\n",
              "      border-right-color: var(--fill-color);\n",
              "      border-bottom-color: var(--fill-color);\n",
              "    }\n",
              "    90% {\n",
              "      border-color: transparent;\n",
              "      border-bottom-color: var(--fill-color);\n",
              "    }\n",
              "  }\n",
              "</style>\n",
              "\n",
              "  <script>\n",
              "    async function quickchart(key) {\n",
              "      const quickchartButtonEl =\n",
              "        document.querySelector('#' + key + ' button');\n",
              "      quickchartButtonEl.disabled = true;  // To prevent multiple clicks.\n",
              "      quickchartButtonEl.classList.add('colab-df-spinner');\n",
              "      try {\n",
              "        const charts = await google.colab.kernel.invokeFunction(\n",
              "            'suggestCharts', [key], {});\n",
              "      } catch (error) {\n",
              "        console.error('Error during call to suggestCharts:', error);\n",
              "      }\n",
              "      quickchartButtonEl.classList.remove('colab-df-spinner');\n",
              "      quickchartButtonEl.classList.add('colab-df-quickchart-complete');\n",
              "    }\n",
              "    (() => {\n",
              "      let quickchartButtonEl =\n",
              "        document.querySelector('#df-1372a355-26db-4811-81dc-8bd497190d84 button');\n",
              "      quickchartButtonEl.style.display =\n",
              "        google.colab.kernel.accessAllowed ? 'block' : 'none';\n",
              "    })();\n",
              "  </script>\n",
              "</div>\n",
              "\n",
              "    </div>\n",
              "  </div>\n"
            ],
            "application/vnd.google.colaboratory.intrinsic+json": {
              "type": "dataframe",
              "summary": "{\n  \"name\": \"display(df_produtos\",\n  \"rows\": 5,\n  \"fields\": [\n    {\n      \"column\": \"BVAA0\",\n      \"properties\": {\n        \"dtype\": \"string\",\n        \"num_unique_values\": 5,\n        \"samples\": [\n          \"BVAA2\",\n          \"WDFE2\",\n          \"QSOP4\"\n        ],\n        \"semantic_type\": \"\",\n        \"description\": \"\"\n      }\n    },\n    {\n      \"column\": \"\\u00c1gua Sanit\\u00e1ria\",\n      \"properties\": {\n        \"dtype\": \"string\",\n        \"num_unique_values\": 5,\n        \"samples\": [\n          \"\\u00c1lcool em Gel Acendedor\",\n          \"Baldes e Bacias\\u00a0\",\n          \"Alvejantes\"\n        ],\n        \"semantic_type\": \"\",\n        \"description\": \"\"\n      }\n    }\n  ]\n}"
            }
          },
          "metadata": {}
        }
      ]
    },
    {
      "cell_type": "markdown",
      "source": [
        "# Análise exploratória dos dados"
      ],
      "metadata": {
        "id": "THtlGvfb83BZ"
      }
    },
    {
      "cell_type": "markdown",
      "source": [
        "## Verificação de dados nulos"
      ],
      "metadata": {
        "id": "YI8h2fNl-uFO"
      }
    },
    {
      "cell_type": "markdown",
      "source": [
        "Para df_transacoes"
      ],
      "metadata": {
        "id": "1LETVD1gCDjO"
      }
    },
    {
      "cell_type": "code",
      "source": [
        "print(\"Valores nulos na tabela Transações:\")\n",
        "print(df_transacoes.isnull().sum())"
      ],
      "metadata": {
        "colab": {
          "base_uri": "https://localhost:8080/"
        },
        "id": "Um07N5RM-ln0",
        "outputId": "f68abfdf-643f-4ee4-b992-09251d7e72f2"
      },
      "execution_count": 9,
      "outputs": [
        {
          "output_type": "stream",
          "name": "stdout",
          "text": [
            "Valores nulos na tabela Transações:\n",
            "COD_CLI            203\n",
            "DATA_COMPRA          0\n",
            "DT_ENTREGA         288\n",
            "PRODUTO            841\n",
            "VALOR_FATURADO    1162\n",
            "LOCAL              665\n",
            "dtype: int64\n"
          ]
        }
      ]
    },
    {
      "cell_type": "markdown",
      "source": [
        "Para df_locais"
      ],
      "metadata": {
        "id": "trVcnmL-CJL9"
      }
    },
    {
      "cell_type": "code",
      "source": [
        "print(\"Valores nulos na tabela Base Locais:\")\n",
        "print(df_locais.isnull().sum())"
      ],
      "metadata": {
        "colab": {
          "base_uri": "https://localhost:8080/"
        },
        "id": "H_89Iz-I-lea",
        "outputId": "d5ab814e-26de-483a-8d42-763c30abace9"
      },
      "execution_count": 10,
      "outputs": [
        {
          "output_type": "stream",
          "name": "stdout",
          "text": [
            "Valores nulos na tabela Base Locais:\n",
            "1             0\n",
            "Aricanduva    0\n",
            "dtype: int64\n"
          ]
        }
      ]
    },
    {
      "cell_type": "markdown",
      "source": [
        "Para df_produtos"
      ],
      "metadata": {
        "id": "T3j-nLr5CLj_"
      }
    },
    {
      "cell_type": "code",
      "source": [
        "print(\"Valores nulos na tabela Base Produtos:\")\n",
        "print(df_produtos.isnull().sum())"
      ],
      "metadata": {
        "colab": {
          "base_uri": "https://localhost:8080/"
        },
        "id": "CT495Y3687Oo",
        "outputId": "92d59583-726d-4eaf-8181-43fee40a7446"
      },
      "execution_count": 11,
      "outputs": [
        {
          "output_type": "stream",
          "name": "stdout",
          "text": [
            "Valores nulos na tabela Base Produtos:\n",
            "BVAA0             0\n",
            "Água Sanitária    0\n",
            "dtype: int64\n"
          ]
        }
      ]
    },
    {
      "cell_type": "markdown",
      "source": [
        "## Verificação de dados duplicados"
      ],
      "metadata": {
        "id": "HWefMOEk-w8K"
      }
    },
    {
      "cell_type": "markdown",
      "source": [
        "Para o df_transacoes"
      ],
      "metadata": {
        "id": "sI33l-_sCSyO"
      }
    },
    {
      "cell_type": "code",
      "source": [
        "print(\"Duplicados na tabela Transações:\", df_transacoes.duplicated().sum())"
      ],
      "metadata": {
        "colab": {
          "base_uri": "https://localhost:8080/"
        },
        "id": "ncEx6vyb-zVz",
        "outputId": "884446ae-36d8-43e0-fe5c-c6d38736bbe8"
      },
      "execution_count": 12,
      "outputs": [
        {
          "output_type": "stream",
          "name": "stdout",
          "text": [
            "Duplicados na tabela Transações: 0\n"
          ]
        }
      ]
    },
    {
      "cell_type": "markdown",
      "source": [
        "Para o df_locais"
      ],
      "metadata": {
        "id": "mPH4UzLPCVvk"
      }
    },
    {
      "cell_type": "code",
      "source": [
        "print(\"Duplicados na tabela Base Locais:\", df_locais.duplicated().sum())"
      ],
      "metadata": {
        "colab": {
          "base_uri": "https://localhost:8080/"
        },
        "id": "vlsKcTKm-zTL",
        "outputId": "71c005ed-9c95-48f1-ff7c-82bbaab32c93"
      },
      "execution_count": 13,
      "outputs": [
        {
          "output_type": "stream",
          "name": "stdout",
          "text": [
            "Duplicados na tabela Base Locais: 0\n"
          ]
        }
      ]
    },
    {
      "cell_type": "markdown",
      "source": [
        "Para o df_produtos"
      ],
      "metadata": {
        "id": "U6ojQnrKCXMM"
      }
    },
    {
      "cell_type": "code",
      "source": [
        "print(\"Duplicados na tabela Base Produtos:\", df_produtos.duplicated().sum())"
      ],
      "metadata": {
        "colab": {
          "base_uri": "https://localhost:8080/"
        },
        "id": "p83bRPIE-zRx",
        "outputId": "9c4cecaa-7871-4198-cb46-a2eac755be02"
      },
      "execution_count": 14,
      "outputs": [
        {
          "output_type": "stream",
          "name": "stdout",
          "text": [
            "Duplicados na tabela Base Produtos: 0\n"
          ]
        }
      ]
    },
    {
      "cell_type": "markdown",
      "source": [
        "## Verificação de produtos inválidos"
      ],
      "metadata": {
        "id": "b77BQnh_-7pn"
      }
    },
    {
      "cell_type": "markdown",
      "source": [
        "Verificando agora, se os produtos cadastrados no dataframe df_transações são encontrados no dataframe df_produtos, aqueles que não forem encontrados serão considerados inválidos."
      ],
      "metadata": {
        "id": "hD3F7jQmCcbs"
      }
    },
    {
      "cell_type": "code",
      "source": [
        "produtos_invalidos = ~df_transacoes['PRODUTO'].isin(df_produtos.iloc[:, 0])\n",
        "print(\"Quantidade de produtos inválidos:\", produtos_invalidos.sum())"
      ],
      "metadata": {
        "colab": {
          "base_uri": "https://localhost:8080/"
        },
        "id": "W0Gw0lx4--RW",
        "outputId": "2172640d-d2de-491c-e928-4a073376981b"
      },
      "execution_count": 15,
      "outputs": [
        {
          "output_type": "stream",
          "name": "stdout",
          "text": [
            "Quantidade de produtos inválidos: 3152\n"
          ]
        }
      ]
    },
    {
      "cell_type": "markdown",
      "source": [
        "## Verificação de locais inválidos"
      ],
      "metadata": {
        "id": "hKz4IcRd--Wo"
      }
    },
    {
      "cell_type": "markdown",
      "source": [
        "A mesma lógica se aplica para os locais cadastrados no dataframe df_transações. Aqueles locais que não forem encontrados no dataframe df_locais, serão considerados inválidos."
      ],
      "metadata": {
        "id": "oiXv2Yj8CuiV"
      }
    },
    {
      "cell_type": "code",
      "source": [
        "locais_invalidos = ~df_transacoes['LOCAL'].isin(df_locais.iloc[:, 0])\n",
        "print(\"Quantidade de locais inválidos:\", locais_invalidos.sum())"
      ],
      "metadata": {
        "colab": {
          "base_uri": "https://localhost:8080/"
        },
        "id": "cDDiFcC6-973",
        "outputId": "e70f19c9-78c7-4fc4-d307-246ba7edba0f"
      },
      "execution_count": 16,
      "outputs": [
        {
          "output_type": "stream",
          "name": "stdout",
          "text": [
            "Quantidade de locais inválidos: 4562\n"
          ]
        }
      ]
    },
    {
      "cell_type": "markdown",
      "source": [
        "# Parecer final"
      ],
      "metadata": {
        "id": "z_wTZGBY87Z9"
      }
    },
    {
      "cell_type": "code",
      "source": [
        "print(\"###### PARECER FINAL ######\\n\")\n",
        "print(f\"Valores nulos em 'Transações':\")\n",
        "print(df_transacoes.isnull().sum())\n",
        "print(f\"\\nRegistros duplicados em 'Transações': {df_transacoes.duplicated().sum()}\")\n",
        "print(f\"Produtos inválidos em 'Transações': {produtos_invalidos.sum()}\")\n",
        "print(f\"Locais inválidos em 'Transações': {locais_invalidos.sum()}\")"
      ],
      "metadata": {
        "colab": {
          "base_uri": "https://localhost:8080/"
        },
        "id": "kMS0CmOy8xun",
        "outputId": "c6482154-64ff-47a4-a092-91aee661dc77"
      },
      "execution_count": 17,
      "outputs": [
        {
          "output_type": "stream",
          "name": "stdout",
          "text": [
            "###### PARECER FINAL ######\n",
            "\n",
            "Valores nulos em 'Transações':\n",
            "COD_CLI            203\n",
            "DATA_COMPRA          0\n",
            "DT_ENTREGA         288\n",
            "PRODUTO            841\n",
            "VALOR_FATURADO    1162\n",
            "LOCAL              665\n",
            "dtype: int64\n",
            "\n",
            "Registros duplicados em 'Transações': 0\n",
            "Produtos inválidos em 'Transações': 3152\n",
            "Locais inválidos em 'Transações': 4562\n"
          ]
        }
      ]
    },
    {
      "cell_type": "markdown",
      "source": [
        "\n",
        "\n",
        "---\n",
        "\n",
        "\n",
        "A análise realizada sobre o conjunto de dados de transações de vendas revelou uma série de inconsistências que comprometem a integridade e a confiabilidade das informações disponíveis. Inicialmente, observou-se a presença significativa de valores nulos em colunas críticas, como <code>COD_CLI</code>, <code>PRODUTO</code>, <code>LOCAL</code>, e <code>VALOR_FATURADO</code>. **Esses valores podem indicar falhas no processo de coleta de dados ou lacunas no preenchimento, o que dificulta a análise aprofundada e a utilização do conjunto de dados para decisões estratégicas**.\n",
        "\n",
        "</br>Além disso, identificou-se produtos e locais inválidos em relação às tabelas de referência fornecidas. Aproximadamente 3.152 registros possuem códigos de produtos que não estão mapeados na base oficial de produtos, enquanto cerca de 4.562 registros apresentam códigos de locais inexistentes. **Esses problemas sugerem possíveis falhas no processo de validação durante a inserção dos dados, permitindo o uso de identificadores incorretos ou ausentes**.\n",
        "\n",
        "</br>Por outro lado, não foram identificados registros duplicados em nenhuma das tabelas analisadas, o que é um ponto positivo em termos de consistência estrutural. No entanto, a ausência de registros duplicados não compensa os problemas relacionados à integridade referencial e aos valores ausentes.\n",
        "\n",
        "</br>Em termos gerais, o diagnóstico revela que o conjunto de dados está longe de ser plenamente confiável para uso analítico, exigindo ações corretivas em diferentes frentes. Os problemas encontrados apontam para uma necessidade urgente de revisão dos processos que geram, coletam e armazenam as informações, garantindo que elas atendam aos padrões mínimos de qualidade de dados.\n",
        "\n",
        "\n",
        "---\n",
        "\n"
      ],
      "metadata": {
        "id": "FR4NzHrfD1ew"
      }
    },
    {
      "cell_type": "markdown",
      "source": [
        "# Sugestões para correções dos problemas encontrados"
      ],
      "metadata": {
        "id": "aBKMe4ZvFEkZ"
      }
    },
    {
      "cell_type": "markdown",
      "source": [
        "Com base nos problemas identificados, sugerimos as seguintes ações para melhorar a integridade e a confiabilidade do conjunto de dados:"
      ],
      "metadata": {
        "id": "M-l7lDlSFNaX"
      }
    },
    {
      "cell_type": "markdown",
      "source": [
        "###1. Tratar Valores Nulos\n",
        "\n",
        "- **Implementar validação obrigatória:** Certifique-se de que as informações essenciais (como <code>COD_CLI</code>, <code>PRODUTO</code>, <code>LOCAL</code> e <code>VALOR_FATURADO</code>) sejam preenchidas no momento do registro.\n",
        "- **Revisar dados históricos:** Tentar identificar fontes alternativas de informação para preencher os valores ausentes, como registros paralelos ou bases externas.\n",
        "\n",
        "**Estratégias de imputação:**\n",
        "  - Para campos como <code>VALOR_FATURADO</code>, considere usar a média ou mediana de valores similares para preencher os registros nulos.\n",
        "  - Para <code>COD_CLI</code> ou <code>PRODUTO</code>, avalie se há padrões nos dados que permitam inferir o valor correto."
      ],
      "metadata": {
        "id": "No_T0Y4gGwVr"
      }
    },
    {
      "cell_type": "markdown",
      "source": [
        "###2. Corrigir Produtos e Locais Inválidos\n",
        "\n",
        "- **Revisar a tabela de transações:** Identifique e corrija os registros que possuem códigos inválidos de produtos e locais. Utilize validação automática para impedir a inserção de valores inexistentes.\n",
        "- **Atualizar tabelas de referência:** Verifique se a base de produtos e a base de locais estão completas e atualizadas, e sincronize-as com a tabela de transações.\n",
        "- **Treinamento de equipes:** Garanta que os responsáveis pelo preenchimento de dados conheçam as tabelas de referência e utilizem apenas os códigos válidos."
      ],
      "metadata": {
        "id": "J8-tZnl7Gy6A"
      }
    },
    {
      "cell_type": "markdown",
      "source": [
        "###3. Prevenção de Problemas Futuros\n",
        "\n",
        "- **Automatização de processos:** Adote sistemas de entrada de dados que validem automaticamente os valores inseridos, cruzando-os com as tabelas de referência em tempo real.\n",
        "- **Monitoramento contínuo:** Implemente um sistema de auditoria para identificar e corrigir inconsistências em tempo hábil.\n",
        "- **Padronização:** Garanta que os dados sejam inseridos de forma padronizada, eliminando variações que possam causar problemas (como diferentes formatos de datas ou códigos)."
      ],
      "metadata": {
        "id": "JG3JSEgrG1pQ"
      }
    },
    {
      "cell_type": "markdown",
      "source": [
        "###4. Melhoria na Governança de Dados\n",
        "\n",
        "- **Políticas de qualidade de dados:** Estabeleça políticas claras para o gerenciamento e a manutenção da integridade das bases de dados.\n",
        "- **Revisão periódica:** Realize auditorias frequentes nos dados para identificar problemas antes que se tornem críticos.\n",
        "- **Centralização das tabelas de referência:** Certifique-se de que produtos e locais sejam gerenciados de forma centralizada, evitando inconsistências causadas por múltiplas versões."
      ],
      "metadata": {
        "id": "M-2GOklXG3-0"
      }
    },
    {
      "cell_type": "markdown",
      "source": [
        "### 5. Documentação\n",
        "\n",
        "- Desenvolva uma documentação detalhada sobre o fluxo de dados e as tabelas de referência, permitindo que todos os envolvidos no processo compreendam as regras e padrões aplicados."
      ],
      "metadata": {
        "id": "_vBlkGe-G6cS"
      }
    },
    {
      "cell_type": "markdown",
      "source": [
        "# Relatório final"
      ],
      "metadata": {
        "id": "XSKDOCr0HyD8"
      }
    },
    {
      "cell_type": "markdown",
      "source": [
        "Criação do arquivo de texto que irá armazenar o parecer final e as sugestões de melhoria para os dados analisados.\n",
        "\n",
        "**OBERVAÇÃO:** Todos os textos utilizados abaixo foram apresentados anteriormente."
      ],
      "metadata": {
        "id": "gHOBGun_JLEf"
      }
    },
    {
      "cell_type": "code",
      "source": [
        "parecer_final = \"\"\"\n",
        "A análise realizada sobre o conjunto de dados de transações de vendas revelou uma série de inconsistências que comprometem a integridade e a confiabilidade das informações disponíveis. Inicialmente, observou-se a presença significativa de valores nulos em colunas críticas, como <code>COD_CLI</code>, <code>PRODUTO</code>, <code>LOCAL</code>, e <code>VALOR_FATURADO</code>. **Esses valores podem indicar falhas no processo de coleta de dados ou lacunas no preenchimento, o que dificulta a análise aprofundada e a utilização do conjunto de dados para decisões estratégicas**.\n",
        "</br>Além disso, identificou-se produtos e locais inválidos em relação às tabelas de referência fornecidas. Aproximadamente 3.152 registros possuem códigos de produtos que não estão mapeados na base oficial de produtos, enquanto cerca de 4.562 registros apresentam códigos de locais inexistentes. **Esses problemas sugerem possíveis falhas no processo de validação durante a inserção dos dados, permitindo o uso de identificadores incorretos ou ausentes**.\n",
        "</br>Por outro lado, não foram identificados registros duplicados em nenhuma das tabelas analisadas, o que é um ponto positivo em termos de consistência estrutural. No entanto, a ausência de registros duplicados não compensa os problemas relacionados à integridade referencial e aos valores ausentes.\n",
        "</br>Em termos gerais, o diagnóstico revela que o conjunto de dados está longe de ser plenamente confiável para uso analítico, exigindo ações corretivas em diferentes frentes. Os problemas encontrados apontam para uma necessidade urgente de revisão dos processos que geram, coletam e armazenam as informações, garantindo que elas atendam aos padrões mínimos de qualidade de dados.\n",
        "\"\"\"\n",
        "\n",
        "sugestoes_melhorias = \"\"\"\n",
        "Com base nos problemas identificados, sugerimos as seguintes ações para melhorar a integridade e a confiabilidade do conjunto de dados:\\n\n",
        "###1. Tratar Valores Nulos\n",
        "\n",
        "- **Implementar validação obrigatória:** Certifique-se de que as informações essenciais (como <code>COD_CLI</code>, <code>PRODUTO</code>, <code>LOCAL</code> e <code>VALOR_FATURADO</code>) sejam preenchidas no momento do registro.\n",
        "- **Revisar dados históricos:** Tentar identificar fontes alternativas de informação para preencher os valores ausentes, como registros paralelos ou bases externas.\n",
        "\n",
        "**Estratégias de imputação:**\n",
        "  - Para campos como <code>VALOR_FATURADO</code>, considere usar a média ou mediana de valores similares para preencher os registros nulos.\n",
        "  - Para <code>COD_CLI</code> ou <code>PRODUTO</code>, avalie se há padrões nos dados que permitam inferir o valor correto.\\n\\n\n",
        "###2. Corrigir Produtos e Locais Inválidos\n",
        "\n",
        "- **Revisar a tabela de transações:** Identifique e corrija os registros que possuem códigos inválidos de produtos e locais. Utilize validação automática para impedir a inserção de valores inexistentes.\n",
        "- **Atualizar tabelas de referência:** Verifique se a base de produtos e a base de locais estão completas e atualizadas, e sincronize-as com a tabela de transações.\n",
        "- **Treinamento de equipes:** Garanta que os responsáveis pelo preenchimento de dados conheçam as tabelas de referência e utilizem apenas os códigos válidos.\\n\\n\n",
        "###3. Prevenção de Problemas Futuros\n",
        "\n",
        "- **Automatização de processos:** Adote sistemas de entrada de dados que validem automaticamente os valores inseridos, cruzando-os com as tabelas de referência em tempo real.\n",
        "- **Monitoramento contínuo:** Implemente um sistema de auditoria para identificar e corrigir inconsistências em tempo hábil.\n",
        "- **Padronização:** Garanta que os dados sejam inseridos de forma padronizada, eliminando variações que possam causar problemas (como diferentes formatos de datas ou códigos).\\n\\n\n",
        "###4. Melhoria na Governança de Dados\n",
        "\n",
        "- **Políticas de qualidade de dados:** Estabeleça políticas claras para o gerenciamento e a manutenção da integridade das bases de dados.\n",
        "- **Revisão periódica:** Realize auditorias frequentes nos dados para identificar problemas antes que se tornem críticos.\n",
        "- **Centralização das tabelas de referência:** Certifique-se de que produtos e locais sejam gerenciados de forma centralizada, evitando inconsistências causadas por múltiplas versões.\\n\\n\n",
        "### 5. Documentação\n",
        "\n",
        "- Desenvolva uma documentação detalhada sobre o fluxo de dados e as tabelas de referência, permitindo que todos os envolvidos no processo compreendam as regras e padrões aplicados.\n",
        "\"\"\"\n",
        "\n",
        "assinatura_final = \"Equipe de análise de dados\"\n",
        "\n",
        "# Criar o arquivo txt e adicionar o conteúdo\n",
        "with open(\"relatorio_final.txt\", \"w\", encoding=\"utf-8\") as file:\n",
        "    file.write(\"### Relatório Final de Análise de Dados ###\\n\\n\")\n",
        "    file.write(f\"Valores nulos em 'Transações':\")\n",
        "    file.write(df_transacoes.isnull().sum().to_string())\n",
        "    file.write(f\"\\nRegistros duplicados em 'Transações': {df_transacoes.duplicated().sum()}\")\n",
        "    file.write(f\"Produtos inválidos em 'Transações': {produtos_invalidos.sum()}\")\n",
        "    file.write(f\"Locais inválidos em 'Transações': {locais_invalidos.sum()}\")\n",
        "\n",
        "    file.write(\"PARECER FINAL:\\n\")\n",
        "    file.write(parecer_final)\n",
        "    file.write(\"\\n\\nSugestões para a melhoria:\\n\")\n",
        "    file.write(sugestoes_melhorias)\n",
        "    file.write(\"\\n\\nEquipe responsável:\\n\")\n",
        "    file.write(assinatura_final)\n",
        "\n",
        "print(\"O arquivo 'relatorio_final.txt' foi criado com sucesso.\")\n"
      ],
      "metadata": {
        "colab": {
          "base_uri": "https://localhost:8080/"
        },
        "id": "CT7MIZcaHxaI",
        "outputId": "b2a5c3b3-9c41-4cd3-9ef8-7a2907305308"
      },
      "execution_count": 18,
      "outputs": [
        {
          "output_type": "stream",
          "name": "stdout",
          "text": [
            "O arquivo 'relatorio_final.txt' foi criado com sucesso.\n"
          ]
        }
      ]
    }
  ]
}